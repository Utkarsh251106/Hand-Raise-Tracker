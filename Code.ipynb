{
 "cells": [
  {
   "cell_type": "code",
   "execution_count": 1,
   "id": "e57d3336",
   "metadata": {},
   "outputs": [],
   "source": [
    "#Import libraries\n",
    "import numpy as np\n",
    "import mediapipe as mp \n",
    "import cv2"
   ]
  },
  {
   "cell_type": "code",
   "execution_count": 2,
   "id": "b94a353b",
   "metadata": {},
   "outputs": [],
   "source": [
    "#Initialize MediaPipe pose and drawing utilities\n",
    "mp_pose = mp.solutions.pose\n",
    "mp_drawings = mp.solutions.drawing_utils"
   ]
  },
  {
   "cell_type": "code",
   "execution_count": 5,
   "id": "d78804b0",
   "metadata": {},
   "outputs": [],
   "source": [
    "#Function to calculate the angle between three points\n",
    "def calc_angle(a, b, c):\n",
    "    a = np.array(a)\n",
    "    b = np.array(b)\n",
    "    c = np.array(c)\n",
    "    \n",
    "    # Calculate the vectors\n",
    "    ab = a - b\n",
    "    cb = c - b\n",
    "    \n",
    "    # Calculate the dot product and magnitude of the vectors\n",
    "    dot_product = np.dot(ab, cb)\n",
    "    magnitude_ab = np.linalg.norm(ab)\n",
    "    magnitude_cb = np.linalg.norm(cb)\n",
    "    \n",
    "    # Calculate the cosine of the angle\n",
    "    cos_angle = dot_product / (magnitude_ab * magnitude_cb)\n",
    "    \n",
    "    # Clip the cosine value to avoid numerical errors that might occur outside the [-1, 1] range\n",
    "    cos_angle = np.clip(cos_angle, -1.0, 1.0)\n",
    "    \n",
    "    # Calculate the angle in radians and then convert to degrees\n",
    "    angle = np.arccos(cos_angle)\n",
    "    angle = np.degrees(angle)\n",
    "    \n",
    "    return angle"
   ]
  },
  {
   "cell_type": "code",
   "execution_count": 6,
   "id": "fc17e0c5",
   "metadata": {},
   "outputs": [],
   "source": [
    "#Initialize counter and state tracking\n",
    "counter = 0\n",
    "previous_position = \"Unknown\"\n",
    "\n",
    "# Cell 5: Capture video from webcam\n",
    "cap = cv2.VideoCapture(0)\n",
    "\n",
    "with mp_pose.Pose(min_detection_confidence=0.5, min_tracking_confidence=0.5) as pose:\n",
    "    while cap.isOpened():\n",
    "        success, frame = cap.read()\n",
    "        if not success:\n",
    "            break\n",
    "\n",
    "        frame = cv2.flip(frame, 1)\n",
    "        image_height, image_width, _ = frame.shape\n",
    "        rgb_image = cv2.cvtColor(frame, cv2.COLOR_BGR2RGB)\n",
    "        rgb_image.flags.writeable = False\n",
    "        \n",
    "        results = pose.process(rgb_image)\n",
    "        rgb_image.flags.writeable = True\n",
    "        bgr_image = cv2.cvtColor(rgb_image, cv2.COLOR_RGB2BGR)\n",
    "        \n",
    "        if results.pose_landmarks:\n",
    "            mp_drawings.draw_landmarks(\n",
    "                bgr_image, \n",
    "                results.pose_landmarks, \n",
    "                mp_pose.POSE_CONNECTIONS,\n",
    "                mp_drawings.DrawingSpec(color=(245,117,66), thickness=2, circle_radius=2),\n",
    "                mp_drawings.DrawingSpec(color=(245,66,230), thickness=2, circle_radius=2)\n",
    "            )\n",
    "            \n",
    "            landmarks = results.pose_landmarks.landmark\n",
    "            \n",
    "            # Extract coordinates for shoulder, elbow, and hip and convert to pixel values for left hand\n",
    "            left_hip = [landmarks[mp_pose.PoseLandmark.LEFT_HIP.value].x * image_width, \n",
    "                        landmarks[mp_pose.PoseLandmark.LEFT_HIP.value].y * image_height]\n",
    "            left_elbow = [landmarks[mp_pose.PoseLandmark.LEFT_ELBOW.value].x * image_width, \n",
    "                          landmarks[mp_pose.PoseLandmark.LEFT_ELBOW.value].y * image_height]\n",
    "            left_shoulder = [landmarks[mp_pose.PoseLandmark.LEFT_SHOULDER.value].x * image_width, \n",
    "                             landmarks[mp_pose.PoseLandmark.LEFT_SHOULDER.value].y * image_height]\n",
    "            \n",
    "            # Extract coordinates for shoulder, elbow, and hip and convert to pixel values for right hand\n",
    "            right_hip = [landmarks[mp_pose.PoseLandmark.RIGHT_HIP.value].x * image_width, \n",
    "                         landmarks[mp_pose.PoseLandmark.RIGHT_HIP.value].y * image_height]\n",
    "            right_elbow = [landmarks[mp_pose.PoseLandmark.RIGHT_ELBOW.value].x * image_width, \n",
    "                           landmarks[mp_pose.PoseLandmark.RIGHT_ELBOW.value].y * image_height]\n",
    "            right_shoulder = [landmarks[mp_pose.PoseLandmark.RIGHT_SHOULDER.value].x * image_width, \n",
    "                              landmarks[mp_pose.PoseLandmark.RIGHT_SHOULDER.value].y * image_height]\n",
    "            \n",
    "            # Calculate angles\n",
    "            left_angle = calc_angle(left_shoulder, left_elbow, left_hip)\n",
    "            right_angle = calc_angle(right_shoulder, right_elbow, right_hip)\n",
    "            \n",
    "            # Check if both angles are around 180 degrees\n",
    "            if left_angle < 20 and right_angle < 20 and previous_position != \"Up\":\n",
    "                counter += 1\n",
    "            \n",
    "            # Update the previous position\n",
    "            previous_position = \"Up\" if left_angle < 20 and right_angle < 20 else \"Not Up\"\n",
    "            \n",
    "            # Display the angles and counter on the frame\n",
    "            cv2.putText(bgr_image, f\"Left Angle: {int(left_angle)}\", (10, 30),\n",
    "                        cv2.FONT_HERSHEY_COMPLEX, 0.8, (0, 0, 0), 2, cv2.LINE_AA)\n",
    "            cv2.putText(bgr_image, f\"Right Angle: {int(right_angle)}\", (10, 60),\n",
    "                        cv2.FONT_HERSHEY_COMPLEX, 0.8, (0, 0, 0), 2, cv2.LINE_AA)\n",
    "            cv2.putText(bgr_image, f\"Counter: {counter}\", (10, 90),\n",
    "                        cv2.FONT_HERSHEY_COMPLEX, 0.8, (0, 0, 0), 2, cv2.LINE_AA)\n",
    "        \n",
    "        cv2.imshow(\"Camera\", bgr_image)\n",
    "        \n",
    "        key = cv2.waitKey(10) & 0xFF\n",
    "        if key == ord('q') or key == 27 or key == ord('x') or key == ord('Q') or key == ord('X'):\n",
    "            break\n",
    "\n",
    "cap.release()\n",
    "cv2.destroyAllWindows()"
   ]
  },
  {
   "cell_type": "code",
   "execution_count": 7,
   "id": "2ca5a5eb",
   "metadata": {},
   "outputs": [
    {
     "name": "stdout",
     "output_type": "stream",
     "text": [
      "The total number of reps for the exercise are:  0\n"
     ]
    }
   ],
   "source": [
    "#Print the final value of counter\n",
    "print(\"The total number of reps for the exercise are: \",counter)"
   ]
  }
 ],
 "metadata": {
  "kernelspec": {
   "display_name": "Python 3",
   "language": "python",
   "name": "python3"
  },
  "language_info": {
   "codemirror_mode": {
    "name": "ipython",
    "version": 3
   },
   "file_extension": ".py",
   "mimetype": "text/x-python",
   "name": "python",
   "nbconvert_exporter": "python",
   "pygments_lexer": "ipython3",
   "version": "3.12.7"
  },
  "varInspector": {
   "cols": {
    "lenName": 16,
    "lenType": 16,
    "lenVar": 40
   },
   "kernels_config": {
    "python": {
     "delete_cmd_postfix": "",
     "delete_cmd_prefix": "del ",
     "library": "var_list.py",
     "varRefreshCmd": "print(var_dic_list())"
    },
    "r": {
     "delete_cmd_postfix": ") ",
     "delete_cmd_prefix": "rm(",
     "library": "var_list.r",
     "varRefreshCmd": "cat(var_dic_list()) "
    }
   },
   "types_to_exclude": [
    "module",
    "function",
    "builtin_function_or_method",
    "instance",
    "_Feature"
   ],
   "window_display": false
  }
 },
 "nbformat": 4,
 "nbformat_minor": 5
}
